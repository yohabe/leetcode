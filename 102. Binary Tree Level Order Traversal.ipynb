{
 "cells": [
  {
   "cell_type": "markdown",
   "metadata": {},
   "source": [
    "https://leetcode.com/problems/binary-tree-level-order-traversal/\n",
    "```\n",
    "Given a binary tree, return the level order traversal of its nodes' values. (ie, from left to right, level by level).\n",
    "\n",
    "For example:\n",
    "Given binary tree [3,9,20,null,null,15,7],\n",
    "\n",
    "    3\n",
    "   / \\\n",
    "  9  20\n",
    "    /  \\\n",
    "   15   7\n",
    "\n",
    "return its level order traversal as:\n",
    "\n",
    "[\n",
    "  [3],\n",
    "  [9,20],\n",
    "  [15,7]\n",
    "]\n",
    "\n",
    "\n",
    "```"
   ]
  },
  {
   "cell_type": "code",
   "execution_count": null,
   "metadata": {},
   "outputs": [],
   "source": [
    "class TreeNode(object):\n",
    "    def __init__(self, x):\n",
    "        self.val = x\n",
    "        self.left = None\n",
    "        self.right = None\n",
    "    def __str__(self):\n",
    "        def printT(n, prefix, cprefix):\n",
    "            if not n:\n",
    "                return ''\n",
    "            s = ''\n",
    "            s += prefix\n",
    "            s += str(n.val)\n",
    "            s += \"\\n\"\n",
    "            s += printT(n.left, cprefix + \"|- \", cprefix + \"|  \")\n",
    "            s += printT(n.right, cprefix + \"|- \", cprefix + \"|  \")\n",
    "            return s\n",
    "\n",
    "        a = printT(self, \"\", \"\")\n",
    "        return a\n",
    "\n",
    "def makeTree(vals):\n",
    "    if not vals:\n",
    "        return None\n",
    "    r = TreeNode(-1)\n",
    "    q = [r]\n",
    "    #import pdb; pdb.set_trace()\n",
    "\n",
    "    while vals:\n",
    "        v = vals.pop(0)\n",
    "        n = q.pop(0)\n",
    "        if not v:\n",
    "            continue\n",
    "        n.val = v\n",
    "        \n",
    "        # TBD: valsにNoneで位置が含まれているので、ノードも位置が必要\n",
    "        n.left = TreeNode(None)\n",
    "        n.right = TreeNode(None)\n",
    "        \n",
    "        q.append(n.left)\n",
    "        q.append(n.right)\n",
    "    \n",
    "    # TreeNode(None)を消す\n",
    "    def dfs(n):\n",
    "        if n.left and not n.left.val:\n",
    "            n.left = None\n",
    "        else:\n",
    "            dfs(n.left)\n",
    "            \n",
    "        if n.right and not n.right.val:\n",
    "            n.right = None\n",
    "        else:\n",
    "            dfs(n.right)\n",
    "        return n\n",
    "    \n",
    "    r = dfs(r)\n",
    "    return r\n",
    "        \n",
    "a=makeTree([2,1,3])\n",
    "print(a)\n",
    "\n",
    "a=makeTree([5,1,4,None,None,3,6])\n",
    "print(a)"
   ]
  },
  {
   "cell_type": "code",
   "execution_count": 12,
   "metadata": {},
   "outputs": [],
   "source": [
    "def test():\n",
    "    s = Solution()\n",
    "    a = s.levelOrder(makeTree([3,9,20,None,None,15,7]))\n",
    "    assert a == [[3],[9,20],[15,7]], a\n",
    "    \n",
    "    print('ok')"
   ]
  },
  {
   "cell_type": "code",
   "execution_count": 13,
   "metadata": {},
   "outputs": [],
   "source": [
    "class Solution(object):\n",
    "    def levelOrder(self, root):\n",
    "\n",
    "        def bfs(r):\n",
    "            ans = []\n",
    "            q = [(r, 0)]\n",
    "            ### not ではない！\n",
    "            while not q:\n",
    "                n, level = q.pop(0)\n",
    "                if len(ans) < level+1:\n",
    "                    ans.append([])\n",
    "                ans[level].append(n) ## n\n",
    "                if n.left:\n",
    "                    q.append((n.left, level+1))\n",
    "                if n.right:\n",
    "                    q.append((n.right, level+1))\n",
    "            return ans\n",
    "        return bfs(root)"
   ]
  },
  {
   "cell_type": "code",
   "execution_count": 16,
   "metadata": {},
   "outputs": [
    {
     "name": "stdout",
     "output_type": "stream",
     "text": [
      "ok\n"
     ]
    }
   ],
   "source": [
    "## null inputを考慮していない\n",
    "class Solution(object):\n",
    "    def levelOrder(self, root):\n",
    "\n",
    "        def bfs(r):            \n",
    "            ans = []\n",
    "            q = [(r, 0)]\n",
    "            # import pdb; pdb.set_trace()\n",
    "\n",
    "            while q:\n",
    "                n, level = q.pop(0)\n",
    "                if len(ans) < level+1:\n",
    "                    ans.append([])\n",
    "                ans[level].append(n.val)\n",
    "                if n.left:\n",
    "                    q.append((n.left, level+1))\n",
    "                if n.right:\n",
    "                    q.append((n.right, level+1))\n",
    "            return ans\n",
    "        return bfs(root)\n",
    "test()\n"
   ]
  },
  {
   "cell_type": "code",
   "execution_count": 16,
   "metadata": {},
   "outputs": [
    {
     "name": "stdout",
     "output_type": "stream",
     "text": [
      "ok\n"
     ]
    }
   ],
   "source": [
    "# ok\n",
    "class Solution(object):\n",
    "    def levelOrder(self, root):\n",
    "\n",
    "        def bfs(r):            \n",
    "            ans = []\n",
    "            q = [(r, 0)]\n",
    "            # import pdb; pdb.set_trace()\n",
    "\n",
    "            while q:\n",
    "                n, level = q.pop(0)\n",
    "                ## added\n",
    "                if not n:\n",
    "                    continue\n",
    "                if len(ans) < level+1:\n",
    "                    ans.append([])\n",
    "                ans[level].append(n.val)\n",
    "                if n.left:\n",
    "                    q.append((n.left, level+1))\n",
    "                if n.right:\n",
    "                    q.append((n.right, level+1))\n",
    "            return ans\n",
    "        return bfs(root)\n",
    "test()\n"
   ]
  },
  {
   "cell_type": "code",
   "execution_count": null,
   "metadata": {},
   "outputs": [],
   "source": []
  }
 ],
 "metadata": {
  "kernelspec": {
   "display_name": "Python 3",
   "language": "python",
   "name": "python3"
  },
  "language_info": {
   "codemirror_mode": {
    "name": "ipython",
    "version": 3
   },
   "file_extension": ".py",
   "mimetype": "text/x-python",
   "name": "python",
   "nbconvert_exporter": "python",
   "pygments_lexer": "ipython3",
   "version": "3.7.3"
  }
 },
 "nbformat": 4,
 "nbformat_minor": 2
}
