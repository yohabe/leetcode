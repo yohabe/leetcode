{
 "cells": [
  {
   "cell_type": "markdown",
   "metadata": {},
   "source": [
    "https://leetcode.com/problems/linked-list-cycle/"
   ]
  },
  {
   "cell_type": "code",
   "execution_count": 3,
   "metadata": {},
   "outputs": [],
   "source": [
    "class ListNode(object):\n",
    "    def __init__(self, x):\n",
    "        self.val = x\n",
    "        self.next = None\n",
    "    \n",
    "    def __str__(self):\n",
    "        s = []\n",
    "        c = self\n",
    "        while c:\n",
    "            s.append(c.val)\n",
    "            c = c.next\n",
    "        return '->'.join(s)\n",
    "    \n",
    "    def __eq__(self, other):\n",
    "        return str(self) == str(other)\n",
    "        \n",
    "        \n",
    "# str: 1->3->3\n",
    "def makeList(arg):\n",
    "    if type(arg) is str:\n",
    "        a = str.split('->')\n",
    "    else:\n",
    "        a = arg\n",
    "    h = cur = ListNode(0)\n",
    "    for i in a:\n",
    "        t = ListNode(i)\n",
    "        cur.next = t\n",
    "        cur = t\n",
    "    return h.next\n"
   ]
  },
  {
   "cell_type": "code",
   "execution_count": 4,
   "metadata": {},
   "outputs": [],
   "source": [
    "def t():\n",
    "    s = Solution()\n",
    "    \n",
    "    l = makeList([3,2,0,-4])\n",
    "    l.next.next.next.next = l.next\n",
    "    a = s.detectCycle(l)\n",
    "    assert a == l.next, a\n",
    "    \n",
    "    l = makeList([1, 2])\n",
    "    l.next.next = l\n",
    "    a = s.detectCycle(l)\n",
    "    assert a == l, a\n",
    "    \n",
    "    l = makeList([1])\n",
    "    a = s.detectCycle(l)\n",
    "    assert a is None, a"
   ]
  },
  {
   "cell_type": "code",
   "execution_count": null,
   "metadata": {},
   "outputs": [],
   "source": [
    "# ok\n",
    "class Solution(object):\n",
    "    def detectCycle(self, head):\n",
    "        p = p2 = head\n",
    "        while p and p2:\n",
    "            p2 = p2.next\n",
    "            if p2:\n",
    "                p2 = p2.next\n",
    "            else:\n",
    "                break\n",
    "            p = p.next\n",
    "            if p == p2:\n",
    "                break\n",
    "                \n",
    "        if not p or not p2:\n",
    "            return None\n",
    "        \n",
    "        p = head\n",
    "        while p != p2:\n",
    "            p = p.next\n",
    "            p2 = p2.next\n",
    "        return p\n",
    "t()"
   ]
  },
  {
   "cell_type": "code",
   "execution_count": null,
   "metadata": {},
   "outputs": [],
   "source": []
  }
 ],
 "metadata": {
  "kernelspec": {
   "display_name": "Python 3",
   "language": "python",
   "name": "python3"
  },
  "language_info": {
   "codemirror_mode": {
    "name": "ipython",
    "version": 3
   },
   "file_extension": ".py",
   "mimetype": "text/x-python",
   "name": "python",
   "nbconvert_exporter": "python",
   "pygments_lexer": "ipython3",
   "version": "3.7.3"
  }
 },
 "nbformat": 4,
 "nbformat_minor": 2
}
