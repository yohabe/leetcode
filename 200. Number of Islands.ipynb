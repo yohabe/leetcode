{
 "cells": [
  {
   "cell_type": "markdown",
   "metadata": {},
   "source": [
    "https://leetcode.com/problems/number-of-islands/\n",
    "```\n",
    "200. Number of Islands\n",
    "Medium\n",
    "\n",
    "Given a 2d grid map of '1's (land) and '0's (water), count the number of islands. An island is surrounded by water and is formed by connecting adjacent lands horizontally or vertically. You may assume all four edges of the grid are all surrounded by water.\n",
    "\n",
    "Example 1:\n",
    "\n",
    "Input:\n",
    "11110\n",
    "11010\n",
    "11000\n",
    "00000\n",
    "\n",
    "Output: 1\n",
    "\n",
    "Example 2:\n",
    "\n",
    "Input:\n",
    "11000\n",
    "11000\n",
    "00100\n",
    "00011\n",
    "\n",
    "Output: 3\n",
    "\n",
    "```"
   ]
  },
  {
   "cell_type": "code",
   "execution_count": 2,
   "metadata": {},
   "outputs": [],
   "source": [
    "def t():\n",
    "    s=Solution()\n",
    "    a=s.numIslands([[\"1\",\"1\",\"1\",\"1\",\"0\"],[\"1\",\"1\",\"0\",\"1\",\"0\"],[\"1\",\"1\",\"0\",\"0\",\"0\"],[\"0\",\"0\",\"0\",\"0\",\"0\"]])\n",
    "    assert a==1, a\n",
    "    print('ok')\n",
    "    \n"
   ]
  },
  {
   "cell_type": "code",
   "execution_count": 3,
   "metadata": {},
   "outputs": [
    {
     "name": "stdout",
     "output_type": "stream",
     "text": [
      "ok\n"
     ]
    }
   ],
   "source": [
    "# ok\n",
    "class Solution(object):\n",
    "    def numIslands(self, grid):\n",
    "        def dfs(r, c, grid):\n",
    "            if not (0 <= r < len(grid) and 0 <= c < len(grid[0])):\n",
    "                return\n",
    "            if grid[r][c] == '1':\n",
    "                grid[r][c] = '2'\n",
    "                dfs(r-1, c, grid)\n",
    "                dfs(r, c+1, grid)\n",
    "                dfs(r+1, c, grid)\n",
    "                dfs(r, c-1, grid)\n",
    "        ans = 0\n",
    "        for r in range(len(grid)):\n",
    "            for c in range(len(grid[0])):\n",
    "                if grid[r][c] == '1':\n",
    "                    ans += 1\n",
    "                    dfs(r, c, grid)\n",
    "        return ans\n",
    "t()\n"
   ]
  },
  {
   "cell_type": "code",
   "execution_count": null,
   "metadata": {},
   "outputs": [],
   "source": []
  }
 ],
 "metadata": {
  "kernelspec": {
   "display_name": "Python 3",
   "language": "python",
   "name": "python3"
  },
  "language_info": {
   "codemirror_mode": {
    "name": "ipython",
    "version": 3
   },
   "file_extension": ".py",
   "mimetype": "text/x-python",
   "name": "python",
   "nbconvert_exporter": "python",
   "pygments_lexer": "ipython3",
   "version": "3.7.3"
  }
 },
 "nbformat": 4,
 "nbformat_minor": 2
}
