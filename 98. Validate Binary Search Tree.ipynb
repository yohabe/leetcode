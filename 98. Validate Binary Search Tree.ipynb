{
 "cells": [
  {
   "cell_type": "markdown",
   "metadata": {},
   "source": [
    "98. Validate Binary Search Tree\n",
    "https://leetcode.com/problems/validate-binary-search-tree/\n",
    "\n",
    "Given a binary tree, determine if it is a valid binary search tree (BST).\n",
    "\n",
    "Assume a BST is defined as follows:\n",
    "\n",
    "The left subtree of a node contains only nodes with keys less than the node's key.\n",
    "The right subtree of a node contains only nodes with keys greater than the node's key.\n",
    "    Both the left and right subtrees must also be binary search trees.\n",
    "\n",
    " \n",
    "```\n",
    "Example 1:\n",
    "\n",
    "    2\n",
    "   / \\\n",
    "  1   3\n",
    "\n",
    "Input: [2,1,3]\n",
    "Output: true\n",
    "\n",
    "Example 2:\n",
    "\n",
    "    5\n",
    "   / \\\n",
    "  1   4\n",
    "     / \\\n",
    "    3   6\n",
    "\n",
    "Input: [5,1,4,null,null,3,6]\n",
    "Output: false\n",
    "Explanation: The root node's value is 5 but its right child's value is 4.\n",
    "```\n"
   ]
  },
  {
   "cell_type": "code",
   "execution_count": 1,
   "metadata": {
    "code_folding": [
     0,
     1,
     20
    ]
   },
   "outputs": [
    {
     "name": "stdout",
     "output_type": "stream",
     "text": [
      "2\n",
      "|- 1\n",
      "|- 3\n",
      "\n",
      "5\n",
      "|- 1\n",
      "|- 4\n",
      "|  |- 3\n",
      "|  |- 6\n",
      "\n"
     ]
    }
   ],
   "source": [
    "class TreeNode(object):\n",
    "    def __init__(self, x):\n",
    "        self.val = x\n",
    "        self.left = None\n",
    "        self.right = None\n",
    "    def __str__(self):\n",
    "        def printT(n, prefix, cprefix):\n",
    "            if not n:\n",
    "                return ''\n",
    "            s = ''\n",
    "            s += prefix\n",
    "            s += str(n.val)\n",
    "            s += \"\\n\"\n",
    "            s += printT(n.left, cprefix + \"|- \", cprefix + \"|  \")\n",
    "            s += printT(n.right, cprefix + \"|- \", cprefix + \"|  \")\n",
    "            return s\n",
    "\n",
    "        a = printT(self, \"\", \"\")\n",
    "        return a\n",
    "\n",
    "def makeTree(vals):\n",
    "    if not vals:\n",
    "        return None\n",
    "    r = TreeNode(-1)\n",
    "    q = [r]\n",
    "    #import pdb; pdb.set_trace()\n",
    "\n",
    "    while vals:\n",
    "        v = vals.pop(0)\n",
    "        n = q.pop(0)\n",
    "        if not v:\n",
    "            continue\n",
    "        n.val = v\n",
    "        \n",
    "        # TBD: valsにNoneで位置が含まれているので、ノードも位置が必要\n",
    "        n.left = TreeNode(None)\n",
    "        n.right = TreeNode(None)\n",
    "        \n",
    "        q.append(n.left)\n",
    "        q.append(n.right)\n",
    "    \n",
    "    # TreeNode(None)を消す\n",
    "    def dfs(n):\n",
    "        if n.left and not n.left.val:\n",
    "            n.left = None\n",
    "        else:\n",
    "            dfs(n.left)\n",
    "            \n",
    "        if n.right and not n.right.val:\n",
    "            n.right = None\n",
    "        else:\n",
    "            dfs(n.right)\n",
    "        return n\n",
    "    \n",
    "    r = dfs(r)\n",
    "    return r\n",
    "        \n",
    "a=makeTree([2,1,3])\n",
    "print(a)\n",
    "\n",
    "a=makeTree([5,1,4,None,None,3,6])\n",
    "print(a)"
   ]
  },
  {
   "cell_type": "code",
   "execution_count": 11,
   "metadata": {},
   "outputs": [],
   "source": [
    "def test():\n",
    "    s = Solution()\n",
    "    \n",
    "    a = s.isValidBST(makeTree([2,1,3]))\n",
    "    assert a, a\n",
    "    \n",
    "    a = s.isValidBST(makeTree([5,1,4,None,None,3,6]))\n",
    "    assert not a, a\n",
    "    \n",
    "    print('ok')\n",
    "        "
   ]
  },
  {
   "cell_type": "code",
   "execution_count": 12,
   "metadata": {},
   "outputs": [
    {
     "name": "stdout",
     "output_type": "stream",
     "text": [
      "ok\n"
     ]
    }
   ],
   "source": [
    "class Solution(object):\n",
    "    def isValidBST(self, root):\n",
    "        def dfs(n, range):\n",
    "            if not n:\n",
    "                return True\n",
    "            if not (range[0] < n.val < range[1]):\n",
    "                return False\n",
    "            return dfs(n.left, [range[0], n.val]) and dfs(n.right, [n.val, range[1]])\n",
    "        return dfs(root, [float('-inf'), float('inf')])\n",
    "    \n",
    "test()   \n",
    "                                                "
   ]
  }
 ],
 "metadata": {
  "kernelspec": {
   "display_name": "Python 3",
   "language": "python",
   "name": "python3"
  },
  "language_info": {
   "codemirror_mode": {
    "name": "ipython",
    "version": 3
   },
   "file_extension": ".py",
   "mimetype": "text/x-python",
   "name": "python",
   "nbconvert_exporter": "python",
   "pygments_lexer": "ipython3",
   "version": "3.7.3"
  }
 },
 "nbformat": 4,
 "nbformat_minor": 2
}
