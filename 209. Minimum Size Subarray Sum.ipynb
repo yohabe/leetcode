{
 "cells": [
  {
   "cell_type": "markdown",
   "metadata": {},
   "source": [
    "# 209. Minimum Size Subarray Sum\n",
    "\n",
    "https://leetcode.com/problems/minimum-size-subarray-sum/\n",
    "```\n",
    "Given an array of n positive integers and a positive integer s, find the minimal length of a contiguous subarray of which the sum ≥ s. If there isn't one, return 0 instead.\n",
    "\n",
    "Example: \n",
    "\n",
    "Input: s = 7, nums = [2,3,1,2,4,3]\n",
    "Output: 2\n",
    "Explanation: the subarray [4,3] has the minimal length under the problem constraint.\n",
    "\n",
    "Follow up:\n",
    "If you have figured out the O(n) solution, try coding another solution of which the time complexity is O(n log n). \n",
    "```"
   ]
  },
  {
   "cell_type": "code",
   "execution_count": 2,
   "metadata": {},
   "outputs": [],
   "source": [
    "def test():\n",
    "    s = Solution()\n",
    "    a = s.minSubArrayLen(7, [2,3,1,2,4,3])\n",
    "    assert a==2, a\n",
    "    \n",
    "    print('ok')\n",
    "                      "
   ]
  },
  {
   "cell_type": "code",
   "execution_count": null,
   "metadata": {},
   "outputs": [],
   "source": [
    "# two pointer\n",
    "\n",
    "class Solution:\n",
    "    def minSubArrayLen(self, s, nums):\n",
    "        l = 0\n",
    "        r = 0\n",
    "        sm = 0\n",
    "        ans = 0\n",
    "        ### 無限ループ\n",
    "        while l < len(nums):\n",
    "            # 初期状態 -> 不変状態\n",
    "            if r < len(nums):\n",
    "                sm += nums[r]\n",
    "                r += 1\n",
    "            # 不変状態\n",
    "            if sm >= s:\n",
    "                ans = min(ans, r-l)\n",
    "            # 不変状態 -> 初期状態\n",
    "            while sm >= s and r > l:\n",
    "                sm -= nums[l]\n",
    "                l += 1\n",
    "            \n",
    "        return ans\n",
    "    \n",
    "test()\n"
   ]
  },
  {
   "cell_type": "code",
   "execution_count": 8,
   "metadata": {},
   "outputs": [
    {
     "name": "stdout",
     "output_type": "stream",
     "text": [
      "0\n"
     ]
    },
    {
     "ename": "AssertionError",
     "evalue": "0",
     "output_type": "error",
     "traceback": [
      "\u001b[0;31m---------------------------------------------------------------------------\u001b[0m",
      "\u001b[0;31mAssertionError\u001b[0m                            Traceback (most recent call last)",
      "\u001b[0;32m<ipython-input-8-cf8860084021>\u001b[0m in \u001b[0;36m<module>\u001b[0;34m\u001b[0m\n\u001b[1;32m     22\u001b[0m         \u001b[0;32mreturn\u001b[0m \u001b[0mans\u001b[0m\u001b[0;34m\u001b[0m\u001b[0;34m\u001b[0m\u001b[0m\n\u001b[1;32m     23\u001b[0m \u001b[0;34m\u001b[0m\u001b[0m\n\u001b[0;32m---> 24\u001b[0;31m \u001b[0mtest\u001b[0m\u001b[0;34m(\u001b[0m\u001b[0;34m)\u001b[0m\u001b[0;34m\u001b[0m\u001b[0;34m\u001b[0m\u001b[0m\n\u001b[0m",
      "\u001b[0;32m<ipython-input-6-a9ad8de94efc>\u001b[0m in \u001b[0;36mtest\u001b[0;34m()\u001b[0m\n\u001b[1;32m      3\u001b[0m     \u001b[0ma\u001b[0m \u001b[0;34m=\u001b[0m \u001b[0ms\u001b[0m\u001b[0;34m.\u001b[0m\u001b[0mminSubArrayLen\u001b[0m\u001b[0;34m(\u001b[0m\u001b[0;36m7\u001b[0m\u001b[0;34m,\u001b[0m \u001b[0;34m[\u001b[0m\u001b[0;36m2\u001b[0m\u001b[0;34m,\u001b[0m\u001b[0;36m3\u001b[0m\u001b[0;34m,\u001b[0m\u001b[0;36m1\u001b[0m\u001b[0;34m,\u001b[0m\u001b[0;36m2\u001b[0m\u001b[0;34m,\u001b[0m\u001b[0;36m4\u001b[0m\u001b[0;34m,\u001b[0m\u001b[0;36m3\u001b[0m\u001b[0;34m]\u001b[0m\u001b[0;34m)\u001b[0m\u001b[0;34m\u001b[0m\u001b[0;34m\u001b[0m\u001b[0m\n\u001b[1;32m      4\u001b[0m     \u001b[0mprint\u001b[0m\u001b[0;34m(\u001b[0m\u001b[0ma\u001b[0m\u001b[0;34m)\u001b[0m\u001b[0;34m\u001b[0m\u001b[0;34m\u001b[0m\u001b[0m\n\u001b[0;32m----> 5\u001b[0;31m     \u001b[0;32massert\u001b[0m \u001b[0ma\u001b[0m\u001b[0;34m==\u001b[0m\u001b[0;36m2\u001b[0m\u001b[0;34m,\u001b[0m \u001b[0ma\u001b[0m\u001b[0;34m\u001b[0m\u001b[0;34m\u001b[0m\u001b[0m\n\u001b[0m\u001b[1;32m      6\u001b[0m \u001b[0;34m\u001b[0m\u001b[0m\n",
      "\u001b[0;31mAssertionError\u001b[0m: 0"
     ]
    }
   ],
   "source": [
    "# two pointer\n",
    "\n",
    "class Solution:\n",
    "    def minSubArrayLen(self, s, nums):\n",
    "        l = 0\n",
    "        r = 0\n",
    "        sm = 0\n",
    "        \n",
    "        # minを出すのに0にしている\n",
    "        ans = 0\n",
    "        while r < len(nums):\n",
    "\n",
    "            if r < len(nums):\n",
    "                sm += nums[r]\n",
    "                r += 1\n",
    "\n",
    "            if sm >= s:\n",
    "                ans = min(ans, r-l)\n",
    "\n",
    "            while sm >= s and r > l:\n",
    "                sm -= nums[l]\n",
    "                l += 1\n",
    "            \n",
    "        return ans\n",
    "    \n",
    "test()\n"
   ]
  },
  {
   "cell_type": "code",
   "execution_count": 4,
   "metadata": {},
   "outputs": [
    {
     "ename": "AssertionError",
     "evalue": "3",
     "output_type": "error",
     "traceback": [
      "\u001b[0;31m---------------------------------------------------------------------------\u001b[0m",
      "\u001b[0;31mAssertionError\u001b[0m                            Traceback (most recent call last)",
      "\u001b[0;32m<ipython-input-4-245161e1b0e3>\u001b[0m in \u001b[0;36m<module>\u001b[0;34m\u001b[0m\n\u001b[1;32m     23\u001b[0m         \u001b[0;32mreturn\u001b[0m \u001b[0mans\u001b[0m\u001b[0;34m\u001b[0m\u001b[0;34m\u001b[0m\u001b[0m\n\u001b[1;32m     24\u001b[0m \u001b[0;34m\u001b[0m\u001b[0m\n\u001b[0;32m---> 25\u001b[0;31m \u001b[0mtest\u001b[0m\u001b[0;34m(\u001b[0m\u001b[0;34m)\u001b[0m\u001b[0;34m\u001b[0m\u001b[0;34m\u001b[0m\u001b[0m\n\u001b[0m",
      "\u001b[0;32m<ipython-input-2-574ef6493a93>\u001b[0m in \u001b[0;36mtest\u001b[0;34m()\u001b[0m\n\u001b[1;32m      2\u001b[0m     \u001b[0ms\u001b[0m \u001b[0;34m=\u001b[0m \u001b[0mSolution\u001b[0m\u001b[0;34m(\u001b[0m\u001b[0;34m)\u001b[0m\u001b[0;34m\u001b[0m\u001b[0;34m\u001b[0m\u001b[0m\n\u001b[1;32m      3\u001b[0m     \u001b[0ma\u001b[0m \u001b[0;34m=\u001b[0m \u001b[0ms\u001b[0m\u001b[0;34m.\u001b[0m\u001b[0mminSubArrayLen\u001b[0m\u001b[0;34m(\u001b[0m\u001b[0;36m7\u001b[0m\u001b[0;34m,\u001b[0m \u001b[0;34m[\u001b[0m\u001b[0;36m2\u001b[0m\u001b[0;34m,\u001b[0m\u001b[0;36m3\u001b[0m\u001b[0;34m,\u001b[0m\u001b[0;36m1\u001b[0m\u001b[0;34m,\u001b[0m\u001b[0;36m2\u001b[0m\u001b[0;34m,\u001b[0m\u001b[0;36m4\u001b[0m\u001b[0;34m,\u001b[0m\u001b[0;36m3\u001b[0m\u001b[0;34m]\u001b[0m\u001b[0;34m)\u001b[0m\u001b[0;34m\u001b[0m\u001b[0;34m\u001b[0m\u001b[0m\n\u001b[0;32m----> 4\u001b[0;31m     \u001b[0;32massert\u001b[0m \u001b[0ma\u001b[0m\u001b[0;34m==\u001b[0m\u001b[0;36m2\u001b[0m\u001b[0;34m,\u001b[0m \u001b[0ma\u001b[0m\u001b[0;34m\u001b[0m\u001b[0;34m\u001b[0m\u001b[0m\n\u001b[0m\u001b[1;32m      5\u001b[0m \u001b[0;34m\u001b[0m\u001b[0m\n\u001b[1;32m      6\u001b[0m     \u001b[0mprint\u001b[0m\u001b[0;34m(\u001b[0m\u001b[0;34m'ok'\u001b[0m\u001b[0;34m)\u001b[0m\u001b[0;34m\u001b[0m\u001b[0;34m\u001b[0m\u001b[0m\n",
      "\u001b[0;31mAssertionError\u001b[0m: 3"
     ]
    }
   ],
   "source": [
    "# two pointer\n",
    "\n",
    "class Solution:\n",
    "    def minSubArrayLen(self, s, nums):\n",
    "        l = 0\n",
    "        r = 0\n",
    "        sm = 0\n",
    "        ans = float('inf')\n",
    "\n",
    "        while r < len(nums):\n",
    "            sm += nums[r]\n",
    "            r += 1\n",
    "\n",
    "            # 答えを入れるチャンスはここだけでなくて\n",
    "            if sm >= s:\n",
    "                ans = min(ans, r-l)\n",
    "\n",
    "            while sm >= s and r > l:\n",
    "                # ここにも必要\n",
    "                sm -= nums[l]\n",
    "                l += 1\n",
    "            \n",
    "        if ans == float('inf'):\n",
    "            return 0\n",
    "        return ans\n",
    "    \n",
    "test()\n"
   ]
  },
  {
   "cell_type": "code",
   "execution_count": 7,
   "metadata": {},
   "outputs": [
    {
     "name": "stdout",
     "output_type": "stream",
     "text": [
      "ok\n"
     ]
    }
   ],
   "source": [
    "# two pointer\n",
    "# ok\n",
    "\n",
    "class Solution:\n",
    "    def minSubArrayLen(self, s, nums):\n",
    "        l = 0\n",
    "        r = 0\n",
    "        sm = 0\n",
    "        ans = float('inf')\n",
    "\n",
    "        while r < len(nums):\n",
    "            sm += nums[r]\n",
    "            r += 1\n",
    "\n",
    "            while sm >= s and r > l:\n",
    "                # この場所を変えた\n",
    "                ans = min(ans, r-l)\n",
    "                sm -= nums[l]\n",
    "                l += 1\n",
    "            \n",
    "        if ans == float('inf'):\n",
    "            return 0\n",
    "        return ans\n",
    "    \n",
    "test()\n"
   ]
  },
  {
   "cell_type": "code",
   "execution_count": null,
   "metadata": {},
   "outputs": [],
   "source": []
  }
 ],
 "metadata": {
  "kernelspec": {
   "display_name": "Python 3",
   "language": "python",
   "name": "python3"
  },
  "language_info": {
   "codemirror_mode": {
    "name": "ipython",
    "version": 3
   },
   "file_extension": ".py",
   "mimetype": "text/x-python",
   "name": "python",
   "nbconvert_exporter": "python",
   "pygments_lexer": "ipython3",
   "version": "3.7.3"
  }
 },
 "nbformat": 4,
 "nbformat_minor": 2
}
