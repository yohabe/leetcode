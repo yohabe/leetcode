{
 "cells": [
  {
   "cell_type": "markdown",
   "metadata": {},
   "source": [
    "83. Remove Duplicates from Sorted List\n",
    "\n",
    "https://leetcode.com/problems/remove-duplicates-from-sorted-list/\n",
    "\n",
    "Given a sorted linked list, delete all duplicates such that each element appear only once.\n",
    "\n",
    "Example 1:\n",
    "\n",
    "Input: 1->1->2\n",
    "Output: 1->2\n",
    "\n",
    "Example 2:\n",
    "\n",
    "Input: 1->1->2->3->3\n",
    "Output: 1->2->3\n",
    "\n",
    "\n"
   ]
  },
  {
   "cell_type": "code",
   "execution_count": 2,
   "metadata": {},
   "outputs": [
    {
     "name": "stdout",
     "output_type": "stream",
     "text": [
      "1->2->3\n"
     ]
    }
   ],
   "source": [
    "class ListNode(object):\n",
    "    def __init__(self, x):\n",
    "        self.val = x\n",
    "        self.next = None\n",
    "    \n",
    "    def __str__(self):\n",
    "        s = []\n",
    "        c = self\n",
    "        while c:\n",
    "            s.append(c.val)\n",
    "            c = c.next\n",
    "        return '->'.join(s)\n",
    "    \n",
    "    def __eq__(self, other):\n",
    "        return str(self) == str(other)\n",
    "        \n",
    "        \n",
    "# str: 1->3->3\n",
    "def makeList(str):\n",
    "#    import pdb; pdb.set_trace()\n",
    "\n",
    "    a = str.split('->')\n",
    "    h = cur = ListNode(0)\n",
    "    for i in a:\n",
    "        t = ListNode(i)\n",
    "        cur.next = t\n",
    "        cur = t\n",
    "    return h.next\n",
    "        \n",
    "a = makeList('1->2->3')\n",
    "print(a)\n"
   ]
  },
  {
   "cell_type": "code",
   "execution_count": 12,
   "metadata": {},
   "outputs": [],
   "source": [
    "def test():\n",
    "    s = Solution()\n",
    "    a = s.deleteDuplicates(makeList('1->1->2'))\n",
    "    assert a == makeList('1->2')\n",
    "    a = s.deleteDuplicates(makeList('1->1->2->3->3'))\n",
    "    assert a == makeList('1->2->3')\n",
    "    \n",
    "    print('ok')"
   ]
  },
  {
   "cell_type": "code",
   "execution_count": 13,
   "metadata": {},
   "outputs": [
    {
     "name": "stdout",
     "output_type": "stream",
     "text": [
      "ok\n"
     ]
    }
   ],
   "source": [
    "# ok\n",
    "class Solution(object):\n",
    "    def deleteDuplicates(self, head):\n",
    "        cur = head\n",
    "        while cur:\n",
    "            n = cur.next\n",
    "            while n and cur.val == n.val:\n",
    "                n = n.next\n",
    "            cur.next = n\n",
    "            cur = n\n",
    "        return head\n",
    "test()"
   ]
  },
  {
   "cell_type": "code",
   "execution_count": null,
   "metadata": {},
   "outputs": [],
   "source": []
  }
 ],
 "metadata": {
  "kernelspec": {
   "display_name": "Python 3",
   "language": "python",
   "name": "python3"
  },
  "language_info": {
   "codemirror_mode": {
    "name": "ipython",
    "version": 3
   },
   "file_extension": ".py",
   "mimetype": "text/x-python",
   "name": "python",
   "nbconvert_exporter": "python",
   "pygments_lexer": "ipython3",
   "version": "3.7.3"
  }
 },
 "nbformat": 4,
 "nbformat_minor": 2
}
