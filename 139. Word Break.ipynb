{
 "cells": [
  {
   "cell_type": "markdown",
   "metadata": {},
   "source": [
    "https://leetcode.com/problems/word-break/\n",
    "```\n",
    "Given a non-empty string s and a dictionary wordDict containing a list of non-empty words, determine if s can be segmented into a space-separated sequence of one or more dictionary words.\n",
    "\n",
    "Note:\n",
    "\n",
    "    The same word in the dictionary may be reused multiple times in the segmentation.\n",
    "    You may assume the dictionary does not contain duplicate words.\n",
    "\n",
    "Example 1:\n",
    "\n",
    "Input: s = \"leetcode\", wordDict = [\"leet\", \"code\"]\n",
    "Output: true\n",
    "Explanation: Return true because \"leetcode\" can be segmented as \"leet code\".\n",
    "\n",
    "Example 2:\n",
    "\n",
    "Input: s = \"applepenapple\", wordDict = [\"apple\", \"pen\"]\n",
    "Output: true\n",
    "Explanation: Return true because \"applepenapple\" can be segmented as \"apple pen apple\".\n",
    "             Note that you are allowed to reuse a dictionary word.\n",
    "\n",
    "Example 3:\n",
    "\n",
    "Input: s = \"catsandog\", wordDict = [\"cats\", \"dog\", \"sand\", \"and\", \"cat\"]\n",
    "Output: false\n",
    "\n",
    "\n",
    "```\n"
   ]
  },
  {
   "cell_type": "code",
   "execution_count": 1,
   "metadata": {},
   "outputs": [],
   "source": [
    "def t():\n",
    "    s=Solution()\n",
    "    a=s.wordBreak(\"leetcode\", [\"leet\", \"code\"])\n",
    "    assert a, a\n",
    "    a=s.wordBreak(\"applepenapple\", [\"apple\", \"pen\"])\n",
    "    assert a, a\n",
    "    a=s.wordBreak(\"catsandog\", [\"cats\", \"dog\", \"sand\", \"and\", \"cat\"])\n",
    "    assert not a, a\n",
    "    print('ok')"
   ]
  },
  {
   "cell_type": "code",
   "execution_count": 3,
   "metadata": {},
   "outputs": [
    {
     "name": "stdout",
     "output_type": "stream",
     "text": [
      "ok\n"
     ]
    }
   ],
   "source": [
    "# dp\n",
    "class Solution(object):\n",
    "    def wordBreak(self, s, wordDict):\n",
    "        dp = [False] * (len(s)+1)\n",
    "        dp[0] = True\n",
    "        for i in range(len(dp)):\n",
    "            if not dp[i]:\n",
    "                continue\n",
    "            for w in wordDict:\n",
    "                if s[i:].startswith(w):\n",
    "                    dp[i+len(w)] = True\n",
    "        return dp[len(s)]\n",
    "t()\n"
   ]
  },
  {
   "cell_type": "code",
   "execution_count": 4,
   "metadata": {},
   "outputs": [
    {
     "name": "stdout",
     "output_type": "stream",
     "text": [
      "ok\n"
     ]
    }
   ],
   "source": [
    "# bfs\n",
    "# time limit exceeded\n",
    "class Solution(object):\n",
    "    def wordBreak(self, s, wordDict):\n",
    "        def bfs(s, wordDict):\n",
    "            q = [s]\n",
    "            while q:\n",
    "                i = q.pop(0)\n",
    "                for w in wordDict:\n",
    "                    if i == w:\n",
    "                        return True\n",
    "                    if i.startswith(w):\n",
    "                        q.append(i[len(w):])\n",
    "            return False\n",
    "        return bfs(s, wordDict)\n",
    "            \n",
    "t()\n"
   ]
  },
  {
   "cell_type": "code",
   "execution_count": null,
   "metadata": {},
   "outputs": [],
   "source": []
  }
 ],
 "metadata": {
  "kernelspec": {
   "display_name": "Python 3",
   "language": "python",
   "name": "python3"
  },
  "language_info": {
   "codemirror_mode": {
    "name": "ipython",
    "version": 3
   },
   "file_extension": ".py",
   "mimetype": "text/x-python",
   "name": "python",
   "nbconvert_exporter": "python",
   "pygments_lexer": "ipython3",
   "version": "3.7.3"
  }
 },
 "nbformat": 4,
 "nbformat_minor": 2
}
